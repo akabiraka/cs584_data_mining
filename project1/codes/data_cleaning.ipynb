{
 "cells": [
  {
   "cell_type": "code",
   "execution_count": 1,
   "metadata": {},
   "outputs": [],
   "source": [
    "import numpy as np\n",
    "import pandas as pd\n",
    "from pandas.api.types import is_string_dtype\n",
    "from pandas.api.types import is_numeric_dtype"
   ]
  },
  {
   "cell_type": "code",
   "execution_count": 2,
   "metadata": {},
   "outputs": [],
   "source": [
    "def clean_columns(data, missing_bound=.5):\n",
    "    \"\"\"\n",
    "    This function remove those columns whose missing value(in percentage) >= missing_bound\n",
    "    data: the given data\n",
    "    missing_bound: in percent (0, 1)\n",
    "    \"\"\"\n",
    "    tmp_data = data\n",
    "    for col in data.columns:\n",
    "        missing_values_per_column = data[col].isnull().sum()\n",
    "        total_rows = data[col].shape[0]\n",
    "        missing_percentage = missing_values_per_column/total_rows\n",
    "        \n",
    "        if (missing_percentage >= missing_bound):\n",
    "            print(\"Removing column: \", col, \", Missing value: \", missing_percentage*100)\n",
    "            data = data.drop(columns=col)\n",
    "    print(\"Number of columns removed: \", tmp_data.shape[1]-data.shape[1])        \n",
    "    return data"
   ]
  },
  {
   "cell_type": "code",
   "execution_count": 3,
   "metadata": {},
   "outputs": [],
   "source": [
    "def get_cols_having_missing_values(data, show_non_missing_columns=False):\n",
    "    \"\"\"\n",
    "    Prints number of missing values in percentage columnwise.\n",
    "    If show_non_missing_columns=False, it only shows columns that has at least 1 missing value.\n",
    "    else shows all values.\n",
    "    \n",
    "    return the cols that has some missing columns\n",
    "    \"\"\"\n",
    "    cols = []\n",
    "    for col in data.columns:\n",
    "        missing_values_per_column = data[col].isnull().sum()\n",
    "        total_rows = data[col].shape[0]\n",
    "        missing_percentage = missing_values_per_column/total_rows\n",
    "        if show_non_missing_columns==False:\n",
    "            if missing_percentage>0.0:\n",
    "                print(\"Column: \", col, \", Missing value: \", missing_percentage*100)\n",
    "                cols.append(col)\n",
    "        else:\n",
    "            print(\"Column: \", col, \", Missing value: \", missing_percentage*100)\n",
    "            cols.append(col)\n",
    "    \n",
    "    return cols"
   ]
  },
  {
   "cell_type": "code",
   "execution_count": 10,
   "metadata": {},
   "outputs": [],
   "source": [
    "def fill_missing_values(data, columns=None):\n",
    "    \"\"\"\n",
    "    columns: columns names in array format. e.g ['a', 'b', 'c']\n",
    "    If data_type is 'object or string', fill the missing values with the mode.\n",
    "    If data_type is 'numerical', fill the missing values with the mean.\n",
    "    \"\"\"\n",
    "    for col in columns:\n",
    "        if is_string_dtype(data[col]):\n",
    "            data[col].fillna(data[col].mode()[0], inplace=True) #Pandas 0.24.0+ does not count NaN by default as mode value. \n",
    "        elif is_numeric_dtype(data[col]):\n",
    "            data[col].fillna(data[col].mean()[0], inplace=True) #fill the missing values with mean if the column is numeric data type\n",
    "        \n",
    "    return data\n",
    "        "
   ]
  },
  {
   "cell_type": "code",
   "execution_count": 15,
   "metadata": {},
   "outputs": [
    {
     "name": "stdout",
     "output_type": "stream",
     "text": [
      "Removing column:  weight , Missing value:  96.85847925633315\n",
      "Removing column:  payer_code , Missing value:  39.5574160328597\n",
      "Removing column:  medical_specialty , Missing value:  49.08220820313268\n",
      "Number of columns removed:  3\n",
      "Column:  race , Missing value:  2.2335554114340743\n",
      "Column:  diag_1 , Missing value:  0.02063557573256294\n",
      "Column:  diag_2 , Missing value:  0.3517874339170253\n",
      "Column:  diag_3 , Missing value:  1.398305917497003\n"
     ]
    }
   ],
   "source": [
    "missing_values = [\"n/a\", \"na\", \"--\", \"?\"]\n",
    "raw_data = pd.read_csv('../dataset_diabetes/diabetic_data.csv', delimiter=',', na_values = missing_values)\n",
    "#print(raw_data.head()) # print head of the data\n",
    "#print(raw_data.describe()) # shows numerical columns statistics e.g. count, mean, std, min, max etc\n",
    "#print(raw_data.shape) # prints shape of the dataset (101766, 50)\n",
    "#print(raw_data[\"weight\"].isnull().sum()) #prints number of null values in weight column\n",
    "#print(raw_data[\"weight\"].shape[0]) #prints number of columns in weight column\n",
    "raw_data = clean_columns(raw_data, missing_bound=.2)\n",
    "cols_having_missing_values = get_cols_having_missing_values(raw_data, False) # cols having missing values\n",
    "#raw_data.dtypes #shows the column data types\n",
    "raw_data = fill_missing_values(raw_data, cols_having_missing_values)\n",
    "#print(get_cols_having_missing_values(raw_data, False)) #no columns with missing values"
   ]
  },
  {
   "cell_type": "code",
   "execution_count": null,
   "metadata": {},
   "outputs": [],
   "source": []
  }
 ],
 "metadata": {
  "kernelspec": {
   "display_name": "Python 3",
   "language": "python",
   "name": "python3"
  },
  "language_info": {
   "codemirror_mode": {
    "name": "ipython",
    "version": 3
   },
   "file_extension": ".py",
   "mimetype": "text/x-python",
   "name": "python",
   "nbconvert_exporter": "python",
   "pygments_lexer": "ipython3",
   "version": "3.6.8"
  }
 },
 "nbformat": 4,
 "nbformat_minor": 2
}
